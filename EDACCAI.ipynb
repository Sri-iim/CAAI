{
  "cells": [
    {
      "cell_type": "markdown",
      "metadata": {
        "id": "view-in-github",
        "colab_type": "text"
      },
      "source": [
        "<a href=\"https://colab.research.google.com/github/Sri-iim/CAAI/blob/main/EDACCAI.ipynb\" target=\"_parent\"><img src=\"https://colab.research.google.com/assets/colab-badge.svg\" alt=\"Open In Colab\"/></a>"
      ]
    },
    {
      "cell_type": "code",
      "execution_count": null,
      "id": "a3e29768-521b-44bf-a454-7cec369b2aa5",
      "metadata": {
        "id": "a3e29768-521b-44bf-a454-7cec369b2aa5"
      },
      "outputs": [],
      "source": [
        "import pandas as pd\n",
        "import seaborn as sns\n",
        "import matplotlib.pyplot as plt\n",
        "import numpy as np\n",
        "from docx import Document\n",
        "from docx.shared import Inches\n",
        "from scipy.stats import zscore\n",
        "\n",
        "# Load Data\n",
        "df = pd.read_excel('C:\\\\Users\\\\CHUMKI\\\\OneDrive\\\\Documents\\\\data.xlsx', sheet_name=\"Data\")\n",
        "df['Date'] = pd.to_datetime(df['Date'])\n",
        "df.dropna(inplace=True)"
      ]
    },
    {
      "cell_type": "code",
      "execution_count": null,
      "id": "17ee89dc-fc03-444a-af74-af22bebefcdb",
      "metadata": {
        "id": "17ee89dc-fc03-444a-af74-af22bebefcdb"
      },
      "outputs": [],
      "source": [
        "# Style\n",
        "sns.set(style=\"whitegrid\", palette=\"deep\")\n",
        "\n",
        "# Distribution Plot\n",
        "sns.histplot(df['FeeEuros'], kde=True, bins=20)\n",
        "plt.title('Distribution of FeeEuros')\n",
        "plt.tight_layout()\n",
        "plt.savefig(\"1_distribution_feeeuros.png\")\n",
        "plt.close()"
      ]
    },
    {
      "cell_type": "code",
      "execution_count": null,
      "id": "625f02a7-5863-41d1-b789-38f97ec91d74",
      "metadata": {
        "id": "625f02a7-5863-41d1-b789-38f97ec91d74"
      },
      "outputs": [],
      "source": [
        "# Boxplot\n",
        "sns.boxplot(x=df['FeeEuros'])\n",
        "plt.title('Boxplot of FeeEuros')\n",
        "plt.tight_layout()\n",
        "plt.savefig(\"2_boxplot_feeeuros.png\")\n",
        "plt.close()"
      ]
    },
    {
      "cell_type": "code",
      "execution_count": null,
      "id": "6e11dc5a-4eba-4686-937b-14eb8c0f234b",
      "metadata": {
        "id": "6e11dc5a-4eba-4686-937b-14eb8c0f234b"
      },
      "outputs": [],
      "source": [
        "# Correlation Heatmap\n",
        "corr = df.select_dtypes(include=[np.number]).corr()\n",
        "sns.heatmap(corr, annot=True, cmap='coolwarm', fmt=\".2f\")\n",
        "plt.title('Correlation Heatmap')\n",
        "plt.tight_layout()\n",
        "plt.savefig(\"3_correlation_heatmap.png\")\n",
        "plt.close()"
      ]
    },
    {
      "cell_type": "code",
      "execution_count": null,
      "id": "9f3d4fb9-db53-4b95-976d-2976169fab75",
      "metadata": {
        "id": "9f3d4fb9-db53-4b95-976d-2976169fab75"
      },
      "outputs": [],
      "source": [
        "# Pair Plot\n",
        "sns.pairplot(df[['FeeEuros', 'YearsOfSentence', 'TrialDurationInWeeks', 'Age']])\n",
        "plt.savefig(\"4_pairplot.png\")\n",
        "plt.close()"
      ]
    },
    {
      "cell_type": "code",
      "execution_count": null,
      "id": "a153c069-3b2c-4067-93ef-a76f6f1d9127",
      "metadata": {
        "id": "a153c069-3b2c-4067-93ef-a76f6f1d9127"
      },
      "outputs": [],
      "source": [
        "# FeeEuros by LawFirm\n",
        "sns.boxplot(x='LawFirm', y='FeeEuros', data=df)\n",
        "plt.title('FeeEuros by Law Firm')\n",
        "plt.tight_layout()\n",
        "plt.savefig(\"5_fee_by_lawfirm.png\")\n",
        "plt.close()"
      ]
    },
    {
      "cell_type": "code",
      "execution_count": null,
      "id": "343e6033-250a-4ac3-9905-613dc88563d7",
      "metadata": {
        "id": "343e6033-250a-4ac3-9905-613dc88563d7"
      },
      "outputs": [],
      "source": [
        "# Fee vs Trial Duration\n",
        "sns.scatterplot(x='TrialDurationInWeeks', y='FeeEuros', hue='LawFirm', data=df)\n",
        "plt.title('FeeEuros vs Trial DurationInWeeks by LawFirm')\n",
        "plt.tight_layout()\n",
        "plt.savefig(\"6_fee_vs_trial_duration.png\")\n",
        "plt.close()"
      ]
    },
    {
      "cell_type": "code",
      "execution_count": null,
      "id": "156df96c-2bc6-40d9-a000-9c9862be7c48",
      "metadata": {
        "id": "156df96c-2bc6-40d9-a000-9c9862be7c48"
      },
      "outputs": [],
      "source": [
        "# FeeEuros by LawKind\n",
        "sns.boxplot(x='LawKind', y='FeeEuros', data=df)\n",
        "plt.title('FeeEuros by LawKind')\n",
        "plt.tight_layout()\n",
        "plt.savefig(\"7_fee_by_lawkind.png\")\n",
        "plt.close()"
      ]
    },
    {
      "cell_type": "code",
      "execution_count": null,
      "id": "ebae8ad6-3e3e-4958-a167-df464b6470dd",
      "metadata": {
        "id": "ebae8ad6-3e3e-4958-a167-df464b6470dd"
      },
      "outputs": [],
      "source": [
        "# Gender by LawKind\n",
        "sns.countplot(x='LawKind', hue='Gender', data=df)\n",
        "plt.title('Gender Representation by LawKind')\n",
        "plt.tight_layout()\n",
        "plt.savefig(\"8_gender_by_lawkind.png\")\n",
        "plt.close()"
      ]
    },
    {
      "cell_type": "code",
      "execution_count": null,
      "id": "442505c7-bf90-4315-ae55-7a86c24418c0",
      "metadata": {
        "id": "442505c7-bf90-4315-ae55-7a86c24418c0"
      },
      "outputs": [],
      "source": [
        "# Z-Score for Outliers\n",
        "df['z_fee'] = zscore(df['FeeEuros'])\n",
        "sns.histplot(df['z_fee'], bins=30, kde=True)\n",
        "plt.title('Z-Score of FeeEuros (Outlier Detection)')\n",
        "plt.tight_layout()\n",
        "plt.savefig(\"9_zscore_feeeuros.png\")\n",
        "plt.close()"
      ]
    },
    {
      "cell_type": "code",
      "execution_count": null,
      "id": "a84fc6de-cab7-43d7-a07c-44c08343958a",
      "metadata": {
        "id": "a84fc6de-cab7-43d7-a07c-44c08343958a"
      },
      "outputs": [],
      "source": [
        "# Monthly Average Fee\n",
        "df['Month'] = df['Date'].dt.to_period('M')\n",
        "monthly_avg = df.groupby('Month')['FeeEuros'].mean().reset_index()\n",
        "monthly_avg['Month'] = monthly_avg['Month'].astype(str)\n",
        "sns.lineplot(x='Month', y='FeeEuros', data=monthly_avg, marker='o')\n",
        "plt.xticks(rotation=45)\n",
        "plt.title('Monthly Average FeeEuros Over Time')\n",
        "plt.tight_layout()\n",
        "plt.savefig(\"10_monthly_feeeuros.png\")\n",
        "plt.close()"
      ]
    },
    {
      "cell_type": "code",
      "execution_count": null,
      "id": "0a3f5019-418f-43fe-a287-9cb1084283ef",
      "metadata": {
        "id": "0a3f5019-418f-43fe-a287-9cb1084283ef"
      },
      "outputs": [],
      "source": [
        "# Top Lawyers\n",
        "top_lawyers = df.groupby('Lawyer')['FeeEuros'].mean().sort_values(ascending=False).head(10)\n",
        "sns.barplot(x=top_lawyers.values, y=top_lawyers.index)\n",
        "plt.title('Top 10 Lawyers by Average FeeEuros')\n",
        "plt.tight_layout()\n",
        "plt.savefig(\"11_top_lawyers.png\")\n",
        "plt.close()"
      ]
    },
    {
      "cell_type": "code",
      "execution_count": null,
      "id": "88a98c47-b396-4d9a-8b45-91017e7cc64c",
      "metadata": {
        "id": "88a98c47-b396-4d9a-8b45-91017e7cc64c"
      },
      "outputs": [],
      "source": [
        "# Violin Plot by Gender\n",
        "sns.violinplot(x='Gender', y='FeeEuros', data=df)\n",
        "plt.title('FeeEuros Distribution by Gender')\n",
        "plt.tight_layout()\n",
        "plt.savefig(\"12_violin_gender_feeeuros.png\")\n",
        "plt.close()"
      ]
    },
    {
      "cell_type": "code",
      "execution_count": null,
      "id": "42e6dfe2-71e3-4a4e-a5f1-194b07db21b4",
      "metadata": {
        "id": "42e6dfe2-71e3-4a4e-a5f1-194b07db21b4"
      },
      "outputs": [],
      "source": [
        "# Missing Value Heatmap\n",
        "sns.heatmap(df.isnull(), cbar=False, cmap='viridis')\n",
        "plt.title('Missing Values Heatmap')\n",
        "plt.tight_layout()\n",
        "plt.savefig(\"13_missing_values_heatmap.png\")\n",
        "plt.close()"
      ]
    },
    {
      "cell_type": "code",
      "execution_count": null,
      "id": "1597f873-c66f-47e6-bad6-29f11ef86b46",
      "metadata": {
        "id": "1597f873-c66f-47e6-bad6-29f11ef86b46"
      },
      "outputs": [],
      "source": [
        "plt.figure(figsize=(12, 6))\n",
        "sns.scatterplot(x='Longitude', y='Latitude', size='FeeEuros', hue='FeeEuros',\n",
        "                data=df, palette='viridis', sizes=(40, 400), alpha=0.7, edgecolor='black')\n",
        "plt.title('Geographical Distribution of FeeEuros')\n",
        "plt.xlabel('Longitude')\n",
        "plt.ylabel('Latitude')\n",
        "plt.grid(True)\n",
        "plt.tight_layout()\n",
        "plt.savefig(\"14_geo_feeeuros.png\")\n",
        "plt.close()\n"
      ]
    },
    {
      "cell_type": "code",
      "execution_count": null,
      "id": "c2dd1355-831c-4e4e-888c-39fa27e701b9",
      "metadata": {
        "id": "c2dd1355-831c-4e4e-888c-39fa27e701b9"
      },
      "outputs": [],
      "source": [
        "import folium\n",
        "\n",
        "m = folium.Map(location=[40, 0], zoom_start=2)\n",
        "\n",
        "for i, row in df.iterrows():\n",
        "    folium.CircleMarker(\n",
        "        location=[row['Latitude'], row['Longitude']],\n",
        "        radius=6,\n",
        "        popup=f\"{row['LocationCity']}, {row['FeeEuros']} EUR\",\n",
        "        color='blue',\n",
        "        fill=True,\n",
        "        fill_opacity=0.6\n",
        "    ).add_to(m)\n",
        "\n",
        "m.save(\"15_geo_feeeuros_map.html\")"
      ]
    },
    {
      "cell_type": "code",
      "execution_count": null,
      "id": "4fb6489a-7bfb-4baa-bf35-a07ff4f3eccb",
      "metadata": {
        "id": "4fb6489a-7bfb-4baa-bf35-a07ff4f3eccb",
        "outputId": "07e4dd0e-ed38-4d24-b8f7-6f6a6031c9f9"
      },
      "outputs": [
        {
          "name": "stdout",
          "output_type": "stream",
          "text": [
            "Extended EDA and report generated successfully.\n"
          ]
        }
      ],
      "source": [
        "# --- Word Report ---\n",
        "doc = Document()\n",
        "doc.add_heading('Extended EDA Report: Legal Fee Dataset', 0)\n",
        "doc.add_paragraph(\"Target Variable: FeeEuros\\n\")\n",
        "\n",
        "def add_section(title, desc, img):\n",
        "    doc.add_heading(title, level=1)\n",
        "    doc.add_paragraph(desc)\n",
        "    doc.add_picture(img, width=Inches(5.5))\n",
        "add_section(\"1. Distribution of FeeEuros\", \"Right-skewed distribution with typical values 1400–1600 EUR.\", \"1_distribution_feeeuros.png\")\n",
        "add_section(\"2. Outlier Boxplot\", \"Shows extreme values possibly from long/complex trials.\", \"2_boxplot_feeeuros.png\")\n",
        "add_section(\"3. Correlation Heatmap\", \"FeeEuros strongly correlates with Trial Duration and Sentence Years.\", \"3_correlation_heatmap.png\")\n",
        "add_section(\"4. Pair Plot\", \"Clear trends across FeeEuros and legal metrics.\", \"4_pairplot.png\")\n",
        "add_section(\"5. Fee by LawFirm\", \"Firm C commands highest fees.\", \"5_fee_by_lawfirm.png\")\n",
        "add_section(\"6. Fee vs Trial Duration\", \"Longer trials often result in higher fees.\", \"6_fee_vs_trial_duration.png\")\n",
        "add_section(\"7. Fee by LawKind\", \"Fiscal and Arbitration cases yield higher returns.\", \"7_fee_by_lawkind.png\")\n",
        "add_section(\"8. Gender by LawKind\", \"Female lawyers are more prominent in Arbitration.\", \"8_gender_by_lawkind.png\")\n",
        "add_section(\"9. Z-Score Outliers\", \"Outliers detected using z-scores > 3.\", \"9_zscore_feeeuros.png\")\n",
        "add_section(\"10. Monthly Trend\", \"Slight trends visible in monthly averages.\", \"10_monthly_feeeuros.png\")\n",
        "add_section(\"11. Top Lawyers\", \"Top 10 lawyers by average case fee.\", \"11_top_lawyers.png\")\n",
        "add_section(\"12. Violin by Gender\", \"Fee distribution patterns vary slightly by gender.\", \"12_violin_gender_feeeuros.png\")\n",
        "add_section(\"13. Missing Value Heatmap\", \"Visual check for nulls.\", \"13_missing_values_heatmap.png\")\n",
        "add_section(\"14. Geo Plot of FeeEuros\",\n",
        "            \"Fees are concentrated in major legal hubs. Law Firm C’s high-fee cases are often in Spain and Latin America.\",\n",
        "            \"14_geo_feeeuros.png\")\n",
        "doc.add_heading(\"Summary & Recommendations\", level=1)\n",
        "doc.add_paragraph(\n",
        "    \"- Law Firm C excels in fee outcomes.\\n\"\n",
        "    \"- Fiscal and Arbitration law are high-fee domains.\\n\"\n",
        "    \"- Trial Duration and Sentence Years are key predictors.\\n\"\n",
        "    \"- Top-performing lawyers like Alejandra set benchmarks.\\n\"\n",
        "    \"- Monitor monthly fluctuations and address outliers.\\n\"\n",
        "    \"- Gender dynamics indicate strengths in Arbitration for female lawyers.\"\n",
        ")\n",
        "doc.save(\"EDA_Report_Legal_Case_Extended.docx\")\n",
        "print(\"Extended EDA and report generated successfully.\")\n"
      ]
    },
    {
      "cell_type": "code",
      "execution_count": null,
      "id": "fbd35822-6645-4701-9ab8-cfcbf0b8ad68",
      "metadata": {
        "id": "fbd35822-6645-4701-9ab8-cfcbf0b8ad68",
        "outputId": "7ff66885-7407-4f00-a1e8-9fe44a0314e7"
      },
      "outputs": [
        {
          "name": "stdout",
          "output_type": "stream",
          "text": [
            "EDA Report generated and saved as 'Law_Firm_EDA_Report.docx'\n"
          ]
        }
      ],
      "source": [
        "# Setup for saving plots\n",
        "plot_dir = \"plots\"\n",
        "os.makedirs(plot_dir, exist_ok=True)\n",
        "\n",
        "# Create Word document\n",
        "doc = Document()\n",
        "doc.add_heading('Exploratory Data Analysis of Law Firms', 0)\n",
        "\n",
        "# Add summary\n",
        "doc.add_heading('Summary Statistics', level=1)\n",
        "doc.add_paragraph(f\"Total Records: {len(df)}\")\n",
        "doc.add_paragraph(f\"Number of Unique Law Firms: {df['LawFirm'].nunique()}\")\n",
        "doc.add_paragraph(f\"Law Firms: {', '.join(df['LawFirm'].unique())}\")\n",
        "\n",
        "# Helper function to save plots and add to doc\n",
        "def plot_and_add(title, fig):\n",
        "    filename = os.path.join(plot_dir, f\"{title}.png\")\n",
        "    fig.savefig(filename, bbox_inches='tight')\n",
        "    plt.close(fig)\n",
        "    doc.add_heading(title.replace(\"_\", \" \"), level=2)\n",
        "    doc.add_picture(filename, width=Inches(5))\n",
        "    doc.add_paragraph(f\"Figure: {title.replace('_', ' ')}.\")\n",
        "\n",
        "# 1. Average Sentence Length by Law Firm\n",
        "fig, ax = plt.subplots()\n",
        "sns.barplot(data=df, x='LawFirm', y='YearsOfSentence', estimator=np.mean, ax=ax)\n",
        "ax.set_title(\"Average Years of Sentence by Law Firm\")\n",
        "plot_and_add(\"Avg_Years_Of_Sentence_By_LawFirm\", fig)\n",
        "\n",
        "# 2. Gender Distribution by Law Firm\n",
        "fig, ax = plt.subplots()\n",
        "sns.countplot(data=df, x='LawFirm', hue='Gender', ax=ax)\n",
        "ax.set_title(\"Gender Distribution by Law Firm\")\n",
        "plot_and_add(\"Gender_Distribution_By_LawFirm\", fig)\n",
        "\n",
        "# 3. Trial Duration by Law Firm\n",
        "fig, ax = plt.subplots()\n",
        "sns.boxplot(data=df, x='LawFirm', y='TrialDurationInWeeks', ax=ax)\n",
        "ax.set_title(\"Trial Duration in Weeks by Law Firm\")\n",
        "plot_and_add(\"Trial_Duration_By_LawFirm\", fig)\n",
        "\n",
        "# 4. Fee Distribution by Law Firm\n",
        "fig, ax = plt.subplots()\n",
        "sns.boxplot(data=df, x='LawFirm', y='FeeEuros', ax=ax)\n",
        "ax.set_title(\"Fee Distribution by Law Firm\")\n",
        "plot_and_add(\"Fee_Distribution_By_LawFirm\", fig)\n",
        "\n",
        "# 5. Law Kind (Case Type) Distribution by Law Firm\n",
        "fig, ax = plt.subplots(figsize=(10, 6))\n",
        "sns.countplot(data=df, x='LawFirm', hue='LawKind', ax=ax)\n",
        "ax.set_title(\"LawKind Distribution by Law Firm\")\n",
        "plot_and_add(\"LawKind_Distribution_By_LawFirm\", fig)\n",
        "\n",
        "# Optional: add a correlation heatmap\n",
        "numeric_cols = df.select_dtypes(include=np.number)\n",
        "fig, ax = plt.subplots(figsize=(10, 8))\n",
        "sns.heatmap(numeric_cols.corr(), annot=True, cmap='coolwarm', ax=ax)\n",
        "ax.set_title(\"Correlation Heatmap\")\n",
        "plot_and_add(\"Correlation_Heatmap\", fig)\n",
        "\n",
        "# Save the Word document\n",
        "doc.save(\"Law_Firm_EDA_Report.docx\")\n",
        "print(\"EDA Report generated and saved as 'Law_Firm_EDA_Report.docx'\")"
      ]
    },
    {
      "cell_type": "code",
      "execution_count": null,
      "id": "48bdbc31-966b-4a23-b0ae-14db7ff38f5c",
      "metadata": {
        "id": "48bdbc31-966b-4a23-b0ae-14db7ff38f5c"
      },
      "outputs": [],
      "source": []
    }
  ],
  "metadata": {
    "kernelspec": {
      "display_name": "Python 3 (ipykernel)",
      "language": "python",
      "name": "python3"
    },
    "language_info": {
      "codemirror_mode": {
        "name": "ipython",
        "version": 3
      },
      "file_extension": ".py",
      "mimetype": "text/x-python",
      "name": "python",
      "nbconvert_exporter": "python",
      "pygments_lexer": "ipython3",
      "version": "3.12.7"
    },
    "colab": {
      "provenance": [],
      "toc_visible": true,
      "include_colab_link": true
    }
  },
  "nbformat": 4,
  "nbformat_minor": 5
}